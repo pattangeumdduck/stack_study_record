{
  "nbformat": 4,
  "nbformat_minor": 0,
  "metadata": {
    "colab": {
      "provenance": [],
      "authorship_tag": "ABX9TyNFwO1exTDT8d4R7yJsyetT",
      "include_colab_link": true
    },
    "kernelspec": {
      "name": "python3",
      "display_name": "Python 3"
    },
    "language_info": {
      "name": "python"
    }
  },
  "cells": [
    {
      "cell_type": "markdown",
      "metadata": {
        "id": "view-in-github",
        "colab_type": "text"
      },
      "source": [
        "<a href=\"https://colab.research.google.com/github/pattangeumdduck/stack_study_record/blob/main/pubmed_project.ipynb\" target=\"_parent\"><img src=\"https://colab.research.google.com/assets/colab-badge.svg\" alt=\"Open In Colab\"/></a>"
      ]
    },
    {
      "cell_type": "code",
      "execution_count": 2,
      "metadata": {
        "colab": {
          "base_uri": "https://localhost:8080/",
          "height": 0
        },
        "id": "HNWfD12EuBF0",
        "outputId": "47fed863-5b25-4c04-c53a-146023ad4b0a"
      },
      "outputs": [
        {
          "output_type": "stream",
          "name": "stdout",
          "text": [
            "Requirement already satisfied: Bio in /usr/local/lib/python3.11/dist-packages (1.8.0)\n",
            "Requirement already satisfied: biopython>=1.80 in /usr/local/lib/python3.11/dist-packages (from Bio) (1.85)\n",
            "Requirement already satisfied: gprofiler-official in /usr/local/lib/python3.11/dist-packages (from Bio) (1.0.0)\n",
            "Requirement already satisfied: mygene in /usr/local/lib/python3.11/dist-packages (from Bio) (3.2.2)\n",
            "Requirement already satisfied: pandas in /usr/local/lib/python3.11/dist-packages (from Bio) (2.2.2)\n",
            "Requirement already satisfied: pooch in /usr/local/lib/python3.11/dist-packages (from Bio) (1.8.2)\n",
            "Requirement already satisfied: requests in /usr/local/lib/python3.11/dist-packages (from Bio) (2.32.3)\n",
            "Requirement already satisfied: tqdm in /usr/local/lib/python3.11/dist-packages (from Bio) (4.67.1)\n",
            "Requirement already satisfied: numpy in /usr/local/lib/python3.11/dist-packages (from biopython>=1.80->Bio) (2.0.2)\n",
            "Requirement already satisfied: biothings-client>=0.2.6 in /usr/local/lib/python3.11/dist-packages (from mygene->Bio) (0.4.1)\n",
            "Requirement already satisfied: python-dateutil>=2.8.2 in /usr/local/lib/python3.11/dist-packages (from pandas->Bio) (2.9.0.post0)\n",
            "Requirement already satisfied: pytz>=2020.1 in /usr/local/lib/python3.11/dist-packages (from pandas->Bio) (2025.2)\n",
            "Requirement already satisfied: tzdata>=2022.7 in /usr/local/lib/python3.11/dist-packages (from pandas->Bio) (2025.2)\n",
            "Requirement already satisfied: platformdirs>=2.5.0 in /usr/local/lib/python3.11/dist-packages (from pooch->Bio) (4.3.8)\n",
            "Requirement already satisfied: packaging>=20.0 in /usr/local/lib/python3.11/dist-packages (from pooch->Bio) (24.2)\n",
            "Requirement already satisfied: charset-normalizer<4,>=2 in /usr/local/lib/python3.11/dist-packages (from requests->Bio) (3.4.2)\n",
            "Requirement already satisfied: idna<4,>=2.5 in /usr/local/lib/python3.11/dist-packages (from requests->Bio) (3.10)\n",
            "Requirement already satisfied: urllib3<3,>=1.21.1 in /usr/local/lib/python3.11/dist-packages (from requests->Bio) (2.4.0)\n",
            "Requirement already satisfied: certifi>=2017.4.17 in /usr/local/lib/python3.11/dist-packages (from requests->Bio) (2025.4.26)\n",
            "Requirement already satisfied: httpx>=0.22.0 in /usr/local/lib/python3.11/dist-packages (from biothings-client>=0.2.6->mygene->Bio) (0.28.1)\n",
            "Requirement already satisfied: six>=1.5 in /usr/local/lib/python3.11/dist-packages (from python-dateutil>=2.8.2->pandas->Bio) (1.17.0)\n",
            "Requirement already satisfied: anyio in /usr/local/lib/python3.11/dist-packages (from httpx>=0.22.0->biothings-client>=0.2.6->mygene->Bio) (4.9.0)\n",
            "Requirement already satisfied: httpcore==1.* in /usr/local/lib/python3.11/dist-packages (from httpx>=0.22.0->biothings-client>=0.2.6->mygene->Bio) (1.0.9)\n",
            "Requirement already satisfied: h11>=0.16 in /usr/local/lib/python3.11/dist-packages (from httpcore==1.*->httpx>=0.22.0->biothings-client>=0.2.6->mygene->Bio) (0.16.0)\n",
            "Requirement already satisfied: sniffio>=1.1 in /usr/local/lib/python3.11/dist-packages (from anyio->httpx>=0.22.0->biothings-client>=0.2.6->mygene->Bio) (1.3.1)\n",
            "Requirement already satisfied: typing_extensions>=4.5 in /usr/local/lib/python3.11/dist-packages (from anyio->httpx>=0.22.0->biothings-client>=0.2.6->mygene->Bio) (4.14.0)\n"
          ]
        }
      ],
      "source": [
        "!pip install Bio"
      ]
    },
    {
      "cell_type": "code",
      "source": [
        "from Bio import Entrez\n",
        "from xml.etree import ElementTree as ET\n",
        "import pandas as pd\n",
        "import time\n",
        "from datetime import datetime, timedelta\n",
        "\n",
        "Entrez.email = \"684259317@naver.com\""
      ],
      "metadata": {
        "id": "H5tCJn3WuL8t"
      },
      "execution_count": 21,
      "outputs": []
    },
    {
      "cell_type": "code",
      "source": [
        "def daterange(start_date, end_date):\n",
        "    # 1달 단위로 시작 날짜 목록 생성\n",
        "    dates = []\n",
        "    current = start_date\n",
        "    while current <= end_date:\n",
        "        dates.append(current)\n",
        "        next_month = (current.replace(day=1) + timedelta(days=32)).replace(day=1)\n",
        "        current = next_month\n",
        "    return dates\n",
        "\n",
        "# PMID 리스트 불러오기 (예: 2024/02/01 ~ 2024/03/29)\n",
        "def get_pubmed_ids(query, start_date, end_date, retmax=100000):\n",
        "    date_query = f'(\"{start_date}\"[Date - Publication] : \"{end_date}\"[Date - Publication])'\n",
        "    full_query = f'{query} AND {date_query}'\n",
        "    handle = Entrez.esearch(db=\"pubmed\", term=full_query, retmax=retmax)\n",
        "    record = Entrez.read(handle)\n",
        "    return record[\"IdList\"]\n",
        "\n",
        "\n",
        "# 상세 메타데이터 가져오기\n",
        "def fetch_pubmed_details(id_list):\n",
        "    ids = \",\".join(id_list)\n",
        "    handle = Entrez.efetch(db=\"pubmed\", id=ids, retmode=\"xml\")\n",
        "    records = Entrez.read(handle)\n",
        "    return records"
      ],
      "metadata": {
        "id": "OfvY33S4uN9U"
      },
      "execution_count": 22,
      "outputs": []
    },
    {
      "cell_type": "code",
      "source": [
        "#논문 필드 추출 함수 정의\n",
        "def extract_metadata(records):\n",
        "    articles = []\n",
        "    for article in records['PubmedArticle']:\n",
        "        citation = article['MedlineCitation']\n",
        "        article_info = citation['Article']\n",
        "\n",
        "        pmid = citation['PMID']\n",
        "        title = article_info.get('ArticleTitle', \"\")\n",
        "        journal = article_info['Journal']['Title']\n",
        "        try:\n",
        "            pub_date = article_info['Journal']['JournalIssue']['PubDate']\n",
        "            pub_year = pub_date.get('Year', '')\n",
        "            pub_month = pub_date.get('Month', '01')\n",
        "            pub_day = pub_date.get('Day', '01')\n",
        "            pub_date_str = f\"{pub_year}-{pub_month}-{pub_day}\"\n",
        "        except:\n",
        "            pub_date_str = \"\"\n",
        "\n",
        "        try:\n",
        "            mesh_terms = [mh['DescriptorName'] for mh in citation.get('MeshHeadingList', [])]\n",
        "        except:\n",
        "            mesh_terms = []\n",
        "\n",
        "        try:\n",
        "            pub_type = article_info['PublicationTypeList'][0]\n",
        "        except:\n",
        "            pub_type = \"\"\n",
        "\n",
        "        articles.append({\n",
        "            'PMID': str(pmid),\n",
        "            'Title': title,\n",
        "            'Journal': journal,\n",
        "            'PubDate': pub_date_str,\n",
        "            'Article Type': pub_type,\n",
        "            'MeSH Terms': \", \".join(str(m) for m in mesh_terms)\n",
        "        })\n",
        "\n",
        "    return pd.DataFrame(articles)"
      ],
      "metadata": {
        "id": "YjHRmRD-uZFI"
      },
      "execution_count": 23,
      "outputs": []
    },
    {
      "cell_type": "code",
      "source": [
        "def collect_range(query, start_str, end_str, out_filename):\n",
        "    start_date = datetime.strptime(start_str, \"%Y-%m-%d\")\n",
        "    end_date = datetime.strptime(end_str, \"%Y-%m-%d\")\n",
        "    month_starts = daterange(start_date, end_date)\n",
        "\n",
        "    all_df = []\n",
        "    monthly_counts = []  # 월별 논문 수를 저장할 리스트\n",
        "    for i, start in enumerate(month_starts):\n",
        "        end = (start.replace(day=1) + timedelta(days=32)).replace(day=1) - timedelta(days=1)\n",
        "        print(f\"수집 중: {start.date()} ~ {end.date()}\")\n",
        "        ids = get_pubmed_ids(query, start.strftime(\"%Y/%m/%d\"), end.strftime(\"%Y/%m/%d\"))\n",
        "        print(f\" → {len(ids)}편 검색됨\")\n",
        "        monthly_counts.append(len(ids)) # 월별 논문 수 리스트에 추가\n",
        "        for j in range(0, len(ids), 200):\n",
        "            chunk_ids = ids[j:j+200]\n",
        "            try:\n",
        "                records = fetch_pubmed_details(chunk_ids)\n",
        "                df_chunk = extract_metadata(records)\n",
        "                all_df.append(df_chunk)\n",
        "            except:\n",
        "                continue\n",
        "            time.sleep(1)\n",
        "    final_df = pd.concat(all_df, ignore_index=True)\n",
        "    final_df.to_csv(out_filename, index=False)\n",
        "    print(f\"저장 완료: {out_filename}\")\n",
        "    return monthly_counts # 월별 논문 수 리스트 반환"
      ],
      "metadata": {
        "id": "tYSJj0sdwgHI"
      },
      "execution_count": 24,
      "outputs": []
    },
    {
      "cell_type": "code",
      "source": [
        "# 실제 실행\n",
        "if __name__ == \"__main__\":\n",
        "    # 2023 전체\n",
        "    collect_range(\"Korea[Affiliation]\", \"2023-01-01\", \"2023-12-31\", \"pubmed_korea_2023.csv\")\n",
        "\n",
        "    # 2024년 4월 ~ 2025년 3월\n",
        "    collect_range(\"Korea[Affiliation]\", \"2024-04-01\", \"2025-03-31\", \"pubmed_korea_2024_04_to_2025_03.csv\")"
      ],
      "metadata": {
        "colab": {
          "base_uri": "https://localhost:8080/",
          "height": 0
        },
        "id": "2CE-qfVD6jn3",
        "outputId": "61894ef4-1e56-4c7c-b47b-2ef6936213c9"
      },
      "execution_count": 25,
      "outputs": [
        {
          "output_type": "stream",
          "name": "stdout",
          "text": [
            "📅 수집 중: 2023-01-01 ~ 2023-01-31\n",
            " → 8926편 검색됨\n",
            "📅 수집 중: 2023-02-01 ~ 2023-02-28\n",
            " → 4677편 검색됨\n",
            "📅 수집 중: 2023-03-01 ~ 2023-03-31\n",
            " → 5155편 검색됨\n",
            "📅 수집 중: 2023-04-01 ~ 2023-04-30\n",
            " → 4527편 검색됨\n",
            "📅 수집 중: 2023-05-01 ~ 2023-05-31\n",
            " → 4799편 검색됨\n",
            "📅 수집 중: 2023-06-01 ~ 2023-06-30\n",
            " → 4851편 검색됨\n",
            "📅 수집 중: 2023-07-01 ~ 2023-07-31\n",
            " → 4722편 검색됨\n",
            "📅 수집 중: 2023-08-01 ~ 2023-08-31\n",
            " → 4731편 검색됨\n",
            "📅 수집 중: 2023-09-01 ~ 2023-09-30\n",
            " → 4995편 검색됨\n",
            "📅 수집 중: 2023-10-01 ~ 2023-10-31\n",
            " → 5011편 검색됨\n",
            "📅 수집 중: 2023-11-01 ~ 2023-11-30\n",
            " → 5125편 검색됨\n",
            "📅 수집 중: 2023-12-01 ~ 2023-12-31\n",
            " → 5217편 검색됨\n",
            "✅ 저장 완료: pubmed_korea_2023.csv\n",
            "📅 수집 중: 2024-04-01 ~ 2024-04-30\n",
            " → 4823편 검색됨\n",
            "📅 수집 중: 2024-05-01 ~ 2024-05-31\n",
            " → 4811편 검색됨\n",
            "📅 수집 중: 2024-06-01 ~ 2024-06-30\n",
            " → 4784편 검색됨\n",
            "📅 수집 중: 2024-07-01 ~ 2024-07-31\n",
            " → 5002편 검색됨\n",
            "📅 수집 중: 2024-08-01 ~ 2024-08-31\n",
            " → 4811편 검색됨\n",
            "📅 수집 중: 2024-09-01 ~ 2024-09-30\n",
            " → 5086편 검색됨\n",
            "📅 수집 중: 2024-10-01 ~ 2024-10-31\n",
            " → 5270편 검색됨\n",
            "📅 수집 중: 2024-11-01 ~ 2024-11-30\n",
            " → 5203편 검색됨\n",
            "📅 수집 중: 2024-12-01 ~ 2024-12-31\n",
            " → 5324편 검색됨\n",
            "📅 수집 중: 2025-01-01 ~ 2025-01-31\n",
            " → 6612편 검색됨\n",
            "📅 수집 중: 2025-02-01 ~ 2025-02-28\n",
            " → 4718편 검색됨\n",
            "📅 수집 중: 2025-03-01 ~ 2025-03-31\n",
            " → 4997편 검색됨\n",
            "✅ 저장 완료: pubmed_korea_2024_04_to_2025_03.csv\n"
          ]
        }
      ]
    }
  ]
}