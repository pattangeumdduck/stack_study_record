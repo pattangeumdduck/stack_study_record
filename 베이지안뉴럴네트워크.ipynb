{
 "cells": [
  {
   "cell_type": "code",
   "execution_count": null,
   "id": "16621440",
   "metadata": {},
   "outputs": [],
   "source": [
    "import jax"
   ]
  },
  {
   "cell_type": "markdown",
   "id": "05c9f799",
   "metadata": {},
   "source": [
    "regression model (X 와 Y간의 선형적 관계계)"
   ]
  },
  {
   "cell_type": "code",
   "execution_count": null,
   "id": "d090d00c",
   "metadata": {},
   "outputs": [],
   "source": [
    "#활성화 함수 정이ㅡ\n",
    "def nonlin(x):\n",
    "    return jax.nn.tanh(x)"
   ]
  },
  {
   "cell_type": "code",
   "execution_count": null,
   "id": "ff71919b",
   "metadata": {},
   "outputs": [],
   "source": [
    "#BNN Model\n",
    "# a two layer bayesian neural network witn computational flow\n",
    "#given by D_X => D_H => D_Y where D_Y is the number of\n",
    "#gidden units , {note we indicate tensor dimesions in the comments}\n",
    "\n",
    "def model(X,Y ,D_H ,D_Y =1):\n",
    "    N, D_X = X ,shape\n",
    "\n",
    "    #samlple first layer {we put unit normal priors on all weights}\n",
    "    w1 =numpyro.sample(\"w1\", dist.Normal(jnp.zeros((D_X, D_H)),\n",
    "                                                jnp.ones((D_X, D_H))))\n",
    "    assert w1.shape == (D_X, D_H)\n",
    "    z1 = nonlin(jnp.matmul(X, w1)) # first layer of activators\n",
    "    assert z1.shape == (N, D_H)\n",
    "\n",
    "    #sample second layer\n",
    "    w2 = numpyro.sample(\"w2\", dist.Normal(jnp.zeros((D_H, D_H)),\n",
    "                                                jnp.ones((D_H, D_H))))\n",
    "    assert w2.shape == (D_H, D_H)\n",
    "    z2 = nonlin(jnp.matmul(z1, w2)) #second layer of activators\n",
    "    assert z2.shape == (N, D_H)\n",
    "\n",
    "    #sample final layer of weights and neural network output\n",
    "    w3 = numpyro.sample(\"w3\", dist.Normal(jnp.zeros((D_H, D_Y)),\n",
    "                                                jnp.ones((D_H, D_Y))))\n",
    "    assert w3.shape == (D_H, D_Y)\n",
    "    z3 = jnp.matmul(z2, w3)  #output of the neural network\n",
    "    assert z3.shape == (N, D_Y)\n",
    "\n",
    "    if Y is not None:\n",
    "        assert z3.shape == Y.shape\n",
    "\n",
    "    #we  put a prior in the observation noise\n",
    "    prec_obs = numpyro.sample(\"prec_obs\", dist.Gamma(3.0, 1.0))\n",
    "    sigma_obs = 1.0/ jnp.sqrt(prec_obs)\n",
    "\n",
    "    #observe date\n",
    "    with numpyro.plate(\"data\", N):\n",
    "        #note we use to_event(1) because each obsercation has shape(1,)\n",
    "        numpyro.sample(\"Y\", dist.Normal(z3, sigma_obs).to_event(1), obs=Y)\n",
    "\n"
   ]
  },
  {
   "cell_type": "code",
   "execution_count": null,
   "id": "35512d27",
   "metadata": {},
   "outputs": [],
   "source": [
    "#변분분포를 지정해야함 , 정규분포 활용하면 빠르게 할 수 있음(파라미터마다 따로 지정 안하고..)\n",
    "from numpyro.infer.autoguide import AutoMultivariateNormal\n",
    "from numpyro.infer.autoguide import AutoDiagonalNormal\n",
    "\n",
    "guide = AutoMultivariateNormal(model)\n",
    "#guide = AutoDiagonalNormal(model)\n",
    "#가이드와 모델을 가지고 SVI 객체 만들어 구현해보기"
   ]
  }
 ],
 "metadata": {
  "language_info": {
   "name": "python"
  }
 },
 "nbformat": 4,
 "nbformat_minor": 5
}
