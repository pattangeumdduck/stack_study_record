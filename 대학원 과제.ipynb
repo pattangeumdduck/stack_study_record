{
 "cells": [
  {
   "cell_type": "markdown",
   "id": "3dafb498",
   "metadata": {},
   "source": [
    "GP prior 먼저 활용(squared exponential covariance kernal)"
   ]
  },
  {
   "cell_type": "code",
   "execution_count": null,
   "id": "8cc23339",
   "metadata": {
    "vscode": {
     "languageId": "plaintext"
    }
   },
   "outputs": [],
   "source": []
  },
  {
   "cell_type": "code",
   "execution_count": null,
   "id": "2ac0e26e",
   "metadata": {
    "vscode": {
     "languageId": "plaintext"
    }
   },
   "outputs": [],
   "source": [
    "#log normal"
   ]
  }
 ],
 "metadata": {
  "language_info": {
   "name": "python"
  }
 },
 "nbformat": 4,
 "nbformat_minor": 5
}
