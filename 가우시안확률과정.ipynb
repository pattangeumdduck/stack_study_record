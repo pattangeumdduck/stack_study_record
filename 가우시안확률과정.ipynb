{
 "cells": [
  {
   "cell_type": "code",
   "execution_count": null,
   "id": "4d4465d9",
   "metadata": {},
   "outputs": [],
   "source": [
    "#GP prior 먼저 활용(squared exponential covariance kernal)\n",
    "#log normal likelihood\n",
    "pyro.clear_param_store()\n",
    "kernel = gp.kernels.RBF( #RBF kernel\n",
    "    ard_num_dims=1,  # Automatic Relevance Determination for 1D input\n",
    "    input_dim = 1, variance =torch.tensor(5.0),\n",
    "    lengthscale = torch.tensor(10.0)\n",
    ")#초깃값\n",
    "\n",
    "gpr = gp.models.GPRegression(X, y ,kernel , noise=torch.tensor(1.0))#가우시안 확률과정 이미 개발된 모형\n",
    "\n",
    "#noge that our priors have support on the positive reals\n",
    "gpr.kernel.lengthscale = pyro.nn.PyroSample(dist.Lognormal(0.0, 1.0))\n",
    "gpr.kernel.variance = pyro.nn.PyroSample(dist.Lognormal(0.0, 1.0))\n",
    "gpr.noise = pyro.nn.PyroSample(dist.Lognormal(0.0, 1.0))\n",
    "#GP prior를 활용한 모델링\n"
   ]
  },
  {
   "cell_type": "code",
   "execution_count": null,
   "id": "11b2fa90",
   "metadata": {},
   "outputs": [],
   "source": [
    "#변분 방법을 이용한 모델 학습\n",
    "from pyro.infer import SVI, Trace_ELBO\n",
    "from pyro.optim import Adam\n",
    "#변분 추론을 위한 최적화 알고리즘   \n",
    "\n",
    "optim = Adam({\"lr\": 0.01}) #학습률 설정\n",
    "svi = SVI(gpr.model, gpr.guide, optim, loss=Trace_ELBO()) #변분 추론 객체 생성\n",
    "losses = [] #손실값을 저장할 리스트\n",
    "variance = [] #변동성을 저장할 리스트\n",
    "lengthscales = [] #길이 척도를 저장할 리스트\n",
    "noises = [] #노이즈를 저장할 리스트\n",
    "#학습을 위한 반복문\n",
    "num_steps = 1000 if not smoke_test else 2\n",
    "for i in range(num_steps):\n",
    "    variances.append(gpr.kernel.variance.item())\n",
    "    noises.append(gpr.noise.item())\n",
    "    lengthscales.append(gpr.kernel.lengthscale.item())\n",
    "    losses.append(svi.step())  # X와 y를 이용하여 SVI를 수행"
   ]
  },
  {
   "cell_type": "code",
   "execution_count": null,
   "id": "0c247559",
   "metadata": {},
   "outputs": [],
   "source": [
    "#SGP prior 이용한 모델 , conditional 분포를 이용한 예측\n",
    "#initalize the inducing inputs\n",
    "\n",
    "Xu = torch.arrange(20.0)/ 4.0\n",
    "\n",
    "pyro.clear_param_store()\n",
    "kernel = gp.kernesl.RBF(input_dim =1 , variance = torch.tensor(5.0),\n",
    "                        lengthscale = torch.tensor(10.0))\n",
    "sgpr - gp.models.SparseGPRegression(X, y ,kernel ,Xu = Xu , jitter =1.0e-5) #Sparse GP Regression 모델\n",
    "#잡음 필요해서 jitter 추가\n",
    "#note that our priors have support on the positive reals\n",
    "sgpr.kernel.lengthscale = pyro.nn.PyroSample(dist.Lognormal(0.0, 1.0))\n",
    "sgpr.kernel.variance = pyro.nn.PyroSample(dist.Lognormal(0.0, 1.0))\n",
    "sgpr.noise = pyro.nn.PyroSample(dist.Lognormal(0.0, 1.0))\n",
    "\n"
   ]
  },
  {
   "cell_type": "code",
   "execution_count": null,
   "id": "31cd9c74",
   "metadata": {},
   "outputs": [],
   "source": [
    "#GP regression -fitting\n",
    "svi = SVI(sgpr.model, sgpr.guide, optim, loss=Trace_ELBO()) #모듈에서 주어진 guide를 이용할 수도 있고, 바꾸고 싶으면 guide 직접 정의도 가능\n",
    "losses = []  # 손실값을 저장할 리스트\n",
    "variances = []  # 변동성을 저장할 리스트\n",
    "locations = []  # 위치를 저장할 리스트\n",
    "lengthscales = []  # 길이 척도를 저장할 리스트\n",
    "noises = []  # 노이즈를 저장할 리스트\n",
    "# 학습을 위한 반복문\n",
    "num_steps = 1000 if not smoke_test else 2\n",
    "for i in range(num_steps):\n",
    "    locations.append(sgpr.Xu.data.numoy().copy()) #locations는 Xu의 위치를 저장 , 어떤 input이 최적인지 찾기 위한 구문문\n",
    "    variances.append(sgpr.kernel.variance.item())\n",
    "    noises.append(sgpr.noise.item())\n",
    "    lengthscales.append(sgpr.kernel.lengthscale.item())\n",
    "    losses.append(svi.step())  # X와 y를 이용하여 SVI를 수행\n",
    "    "
   ]
  }
 ],
 "metadata": {
  "language_info": {
   "name": "python"
  }
 },
 "nbformat": 4,
 "nbformat_minor": 5
}
